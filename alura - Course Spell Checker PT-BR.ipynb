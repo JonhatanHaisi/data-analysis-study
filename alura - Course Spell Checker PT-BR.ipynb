{
 "cells": [
  {
   "cell_type": "markdown",
   "id": "621ec71d-16f5-4a35-9cb8-2188f6576156",
   "metadata": {},
   "source": [
    "# Alura Course - Spell Checker PT-BR"
   ]
  },
  {
   "cell_type": "markdown",
   "id": "24cb0ede-c89a-4854-a202-860f6bc9161e",
   "metadata": {},
   "source": [
    "## Download data"
   ]
  },
  {
   "cell_type": "code",
   "execution_count": 1,
   "id": "78db8e8f-212e-489b-8bd0-c16cc1b37cc0",
   "metadata": {},
   "outputs": [],
   "source": [
    "from helper.data_acquisition import from_url\n",
    "from helper.data_manipulation import unzip"
   ]
  },
  {
   "cell_type": "code",
   "execution_count": 2,
   "id": "43279628-ebea-419f-abf6-c7e240e7d376",
   "metadata": {},
   "outputs": [],
   "source": [
    "from_url('https://github.com/alura-cursos/corretor/archive/master.zip')"
   ]
  },
  {
   "cell_type": "code",
   "execution_count": 3,
   "id": "033eeabe-ff26-42da-aeaf-657c4e854f35",
   "metadata": {},
   "outputs": [],
   "source": [
    "unzip('./data/master.zip', './data/')"
   ]
  },
  {
   "cell_type": "markdown",
   "id": "fd06091a-e295-4c08-9be6-99b7484af26d",
   "metadata": {},
   "source": [
    "## Read the file with articles"
   ]
  },
  {
   "cell_type": "code",
   "execution_count": 4,
   "id": "21523752-bcaf-406a-a446-cf82f1ee0491",
   "metadata": {},
   "outputs": [],
   "source": [
    "with open('data/corretor-master/artigos.txt', 'r', encoding='utf-8') as file:\n",
    "    corpus = file.read()"
   ]
  },
  {
   "cell_type": "code",
   "execution_count": 5,
   "id": "e45b2ef8-5f18-4e34-b510-c478ccaa664f",
   "metadata": {},
   "outputs": [
    {
     "name": "stdout",
     "output_type": "stream",
     "text": [
      "\n",
      "\n",
      "\n",
      "imagem \n",
      "\n",
      "Temos a seguinte classe que representa um usuário no nosso sistema:\n",
      "\n",
      "java\n",
      "\n",
      "Para salvar um novo usuário, várias validações são feitas, como por exemplo: Ver se o nome só contém letras, [**o CPF só números**] e ver se o usuário possui no mínimo 18 anos. Veja o método que faz essa validação:\n",
      "\n",
      "java \n",
      "\n",
      "Suponha agora que eu tenha outra classe, a classe `Produto`, que contém um atributo nome e eu quero fazer a mesma validação que fiz para o nome do usuário: Ver se só contém letras. E aí? Vou\n"
     ]
    }
   ],
   "source": [
    "print(corpus[:500])"
   ]
  },
  {
   "cell_type": "markdown",
   "id": "a0fe615e-35b9-4a16-90ef-1a834ebc9337",
   "metadata": {},
   "source": [
    "## Tokenizing the corpus and create the word catalog"
   ]
  },
  {
   "cell_type": "code",
   "execution_count": 6,
   "id": "27914cf0-3e69-4383-ae69-6eeb1256bb75",
   "metadata": {},
   "outputs": [],
   "source": [
    "import nltk"
   ]
  },
  {
   "cell_type": "code",
   "execution_count": 7,
   "id": "9225c617-00ec-4dc8-b4ac-f3704d734032",
   "metadata": {
    "tags": []
   },
   "outputs": [
    {
     "data": {
      "text/plain": [
       "True"
      ]
     },
     "execution_count": 7,
     "metadata": {},
     "output_type": "execute_result"
    }
   ],
   "source": [
    "nltk.download('punkt', quiet=True)"
   ]
  },
  {
   "cell_type": "markdown",
   "id": "2a996f38-0c60-411f-a07f-c243f7e2b653",
   "metadata": {},
   "source": [
    "**Getting a list with all words from curpus string**"
   ]
  },
  {
   "cell_type": "code",
   "execution_count": 8,
   "id": "38adf6bd-d5aa-4beb-8a0e-3c323e1dadf0",
   "metadata": {},
   "outputs": [],
   "source": [
    "tokens = nltk.tokenize.word_tokenize(corpus)"
   ]
  },
  {
   "cell_type": "code",
   "execution_count": 9,
   "id": "d4a0c09f-4cca-46d9-927c-cbad93145965",
   "metadata": {},
   "outputs": [
    {
     "data": {
      "text/plain": [
       "515905"
      ]
     },
     "execution_count": 9,
     "metadata": {},
     "output_type": "execute_result"
    }
   ],
   "source": [
    "len(tokens)"
   ]
  },
  {
   "cell_type": "code",
   "execution_count": 10,
   "id": "3868282c-702f-4c0e-a02f-bfcf24a4711b",
   "metadata": {},
   "outputs": [],
   "source": [
    "words_catalog = [ w for w in tokens if w.isalpha() ]"
   ]
  },
  {
   "cell_type": "code",
   "execution_count": 11,
   "id": "31676e03-bf21-43dd-85fa-89f447cfa438",
   "metadata": {},
   "outputs": [
    {
     "data": {
      "text/plain": [
       "403104"
      ]
     },
     "execution_count": 11,
     "metadata": {},
     "output_type": "execute_result"
    }
   ],
   "source": [
    "len(words_catalog)"
   ]
  },
  {
   "cell_type": "markdown",
   "id": "2679a61e-0cb4-404e-a0a5-a12fa840f15f",
   "metadata": {},
   "source": [
    "**normalizing the words list**"
   ]
  },
  {
   "cell_type": "code",
   "execution_count": 12,
   "id": "dcab6df6-7e89-41b2-a104-3bb73798871e",
   "metadata": {},
   "outputs": [],
   "source": [
    "words_catalog = [ w.lower() for w in words_catalog ]"
   ]
  },
  {
   "cell_type": "markdown",
   "id": "b0165fef-c6b0-4d54-b995-e2d4b962d6f5",
   "metadata": {},
   "source": [
    "**Removing repeated words**"
   ]
  },
  {
   "cell_type": "code",
   "execution_count": 13,
   "id": "24b86b90-a599-41ad-8872-d14bda52b9cf",
   "metadata": {},
   "outputs": [],
   "source": [
    "words_catalog = set(words_catalog)"
   ]
  },
  {
   "cell_type": "code",
   "execution_count": 14,
   "id": "fcf46689-f887-4d20-9bcf-997425ba476a",
   "metadata": {},
   "outputs": [
    {
     "data": {
      "text/plain": [
       "18465"
      ]
     },
     "execution_count": 14,
     "metadata": {},
     "output_type": "execute_result"
    }
   ],
   "source": [
    "len(words_catalog)"
   ]
  },
  {
   "cell_type": "markdown",
   "id": "a8f9b21e-d27c-41ee-99a4-0e6d7aca2d20",
   "metadata": {},
   "source": [
    "## Implementing a spell checker scenario: a missing character"
   ]
  },
  {
   "cell_type": "code",
   "execution_count": 15,
   "id": "3fe52dad-01b2-4cd3-9b37-b6e2d5027296",
   "metadata": {},
   "outputs": [],
   "source": [
    "def insert_character(slices):\n",
    "    characters = 'abcdefghijklmnopqrstuvwxyzàáâãèéêìíîòóôõùúûç'\n",
    "    return [ l+c+r for l, r in slices for c in characters ]\n",
    "\n",
    "def word_generator(word):\n",
    "    slices = [ (word[:ix], word[ix:]) for ix in range(len(word)+1) ]\n",
    "    return insert_character(slices)"
   ]
  },
  {
   "cell_type": "code",
   "execution_count": 16,
   "id": "d7cfb4e5-9c11-413c-b156-9b687e1bf8c1",
   "metadata": {
    "tags": []
   },
   "outputs": [
    {
     "data": {
      "text/plain": [
       "['algica', 'blgica', 'clgica', 'dlgica', 'elgica']"
      ]
     },
     "execution_count": 16,
     "metadata": {},
     "output_type": "execute_result"
    }
   ],
   "source": [
    "word_generator('lgica')[:5]"
   ]
  },
  {
   "cell_type": "code",
   "execution_count": 17,
   "id": "23f6673d-4a20-4c59-92b5-d69b8a13b58d",
   "metadata": {},
   "outputs": [],
   "source": [
    "def spell_checker_suggestions(word):\n",
    "    generated_words = word_generator(word)\n",
    "    return [ w for w in generated_words if w in words_catalog ]\n",
    "\n",
    "len_word_catalog = len(words_catalog)\n",
    "word_frequency = nltk.FreqDist([ w for w in tokens if w.isalpha() ])\n",
    "def spell_checker(word):\n",
    "    generated_words = word_generator(word)\n",
    "    return max(generated_words, key=lambda w: word_frequency[w]/len_word_catalog)"
   ]
  },
  {
   "cell_type": "code",
   "execution_count": 18,
   "id": "facab81d-6349-40bc-8451-0ce7da1b4fc4",
   "metadata": {},
   "outputs": [
    {
     "name": "stdout",
     "output_type": "stream",
     "text": [
      "Spell checker for word 'lgica': lógica\n",
      "Spell checker for word 'jva': java\n",
      "Spell checker for word 'pra': para\n",
      "Suggestions for word 'lgica': ['lógica']\n",
      "Suggestions checker for word 'jva' ['java']\n",
      "Suggestions checker for word 'pra': ['para', 'pera', 'pura', 'pára', 'pras']\n"
     ]
    }
   ],
   "source": [
    "print(\"Spell checker for word 'lgica':\", spell_checker('lgica'))\n",
    "print(\"Spell checker for word 'jva':\", spell_checker('jva'))\n",
    "print(\"Spell checker for word 'pra':\", spell_checker('pra'))\n",
    "\n",
    "print(\"Suggestions for word 'lgica':\", spell_checker_suggestions('lgica'))\n",
    "print(\"Suggestions checker for word 'jva'\", spell_checker_suggestions('jva'))\n",
    "print(\"Suggestions checker for word 'pra':\", spell_checker_suggestions('pra'))"
   ]
  },
  {
   "cell_type": "markdown",
   "id": "a721a2ff-6e19-4c51-ba5c-d1a02be14320",
   "metadata": {},
   "source": [
    "## Creating the method to evaluate the spell checker"
   ]
  },
  {
   "cell_type": "code",
   "execution_count": 19,
   "id": "b7c69a67-8df5-4d9e-a5f8-03b2b93f4384",
   "metadata": {},
   "outputs": [],
   "source": [
    "def load_test_words():\n",
    "    with open('./data/corretor-master/palavras.txt', 'r', encoding='utf-8') as f:\n",
    "        return [ tuple(l.split()) for l in f.readlines() ]"
   ]
  },
  {
   "cell_type": "code",
   "execution_count": 20,
   "id": "ac0d3a65-7720-453f-8dbb-d9cf28d70eb5",
   "metadata": {},
   "outputs": [],
   "source": [
    "test_words = load_test_words()\n",
    "def evaluate():\n",
    "    success_rate = sum([ 1 for t in test_words if spell_checker(t[1]) == t[0] ]) / len(test_words)\n",
    "    print(f'The spell checker success rate is: {success_rate}')"
   ]
  },
  {
   "cell_type": "code",
   "execution_count": 21,
   "id": "103ef88d-f890-4428-a439-4281ab089c02",
   "metadata": {},
   "outputs": [
    {
     "name": "stdout",
     "output_type": "stream",
     "text": [
      "The spell checker success rate is: 0.010752688172043012\n"
     ]
    }
   ],
   "source": [
    "evaluate()"
   ]
  },
  {
   "cell_type": "markdown",
   "id": "0ccee701-52b8-4db5-856e-dadc4c527e49",
   "metadata": {},
   "source": [
    "## Continue the spell checker implementation"
   ]
  },
  {
   "cell_type": "code",
   "execution_count": 22,
   "id": "ba0c87c2-f8e4-47fb-b722-9476f8978523",
   "metadata": {},
   "outputs": [],
   "source": [
    "def remove_character(slices):\n",
    "    return [ l+r[1:] for l, r in slices ]"
   ]
  },
  {
   "cell_type": "code",
   "execution_count": 23,
   "id": "b50d15d9-715e-41dc-9281-6fac8a23ec88",
   "metadata": {},
   "outputs": [],
   "source": [
    "def word_generator(word):\n",
    "    slices = [ (word[:ix], word[ix:]) for ix in range(len(word)+1) ]\n",
    "    return insert_character(slices) + remove_character(slices)"
   ]
  },
  {
   "cell_type": "code",
   "execution_count": 24,
   "id": "84af7cb8-290a-4ad4-b3b0-e83fafa1a5b4",
   "metadata": {},
   "outputs": [
    {
     "name": "stdout",
     "output_type": "stream",
     "text": [
      "Spell checker for word 'lógicaa': lógica\n",
      "Spell checker for word 'jaava': java\n",
      "Spell checker for word 'prax': para\n",
      "Suggestions for word 'lógicaa': ['lógica']\n",
      "Suggestions checker for word 'jaava' ['java', 'ja']\n",
      "Suggestions checker for word 'prax': ['para', 'pera', 'pura', 'pára', 'pras', 'pr', 'pra']\n"
     ]
    }
   ],
   "source": [
    "print(\"Spell checker for word 'lógicaa':\", spell_checker('lgica'))\n",
    "print(\"Spell checker for word 'jaava':\", spell_checker('jva'))\n",
    "print(\"Spell checker for word 'prax':\", spell_checker('pra'))\n",
    "\n",
    "print(\"Suggestions for word 'lógicaa':\", spell_checker_suggestions('lgica'))\n",
    "print(\"Suggestions checker for word 'jaava'\", spell_checker_suggestions('jva'))\n",
    "print(\"Suggestions checker for word 'prax':\", spell_checker_suggestions('pra'))"
   ]
  },
  {
   "cell_type": "code",
   "execution_count": 25,
   "id": "fca1b9ab-f2dd-439d-adcc-944620126934",
   "metadata": {},
   "outputs": [
    {
     "name": "stdout",
     "output_type": "stream",
     "text": [
      "The spell checker success rate is: 0.41397849462365593\n"
     ]
    }
   ],
   "source": [
    "evaluate()"
   ]
  },
  {
   "cell_type": "code",
   "execution_count": 26,
   "id": "ee2341e9-f167-444c-9b52-dbf1e42347bc",
   "metadata": {},
   "outputs": [],
   "source": [
    "def replace_character(slices):\n",
    "    characters = 'abcdefghijklmnopqrstuvwxyzàáâãèéêìíîòóôõùúûç'\n",
    "    return [ l+c+r[1:] for l, r in slices for c in characters ]"
   ]
  },
  {
   "cell_type": "code",
   "execution_count": 27,
   "id": "4b240159-4db5-4536-bebb-8d4a91c1a109",
   "metadata": {},
   "outputs": [],
   "source": [
    "def word_generator(word):\n",
    "    slices = [ (word[:ix], word[ix:]) for ix in range(len(word)+1) ]\n",
    "    return insert_character(slices) + remove_character(slices) + replace_character(slices)"
   ]
  },
  {
   "cell_type": "code",
   "execution_count": 28,
   "id": "34a354a5-c9d4-47d0-ae7c-3fbafd0470e3",
   "metadata": {},
   "outputs": [
    {
     "name": "stdout",
     "output_type": "stream",
     "text": [
      "Spell checker for word 'lugica': lógica\n",
      "Spell checker for word 'jxva': java\n",
      "Spell checker for word 'paxa': para\n",
      "Suggestions for word 'lugica': ['lógica']\n",
      "Suggestions checker for word 'jxva' ['java']\n",
      "Suggestions checker for word 'paxa': ['taxa', 'poxa', 'puxa', 'paga', 'para']\n"
     ]
    }
   ],
   "source": [
    "print(\"Spell checker for word 'lugica':\", spell_checker('lugica'))\n",
    "print(\"Spell checker for word 'jxva':\", spell_checker('jxva'))\n",
    "print(\"Spell checker for word 'paxa':\", spell_checker('paxa'))\n",
    "\n",
    "print(\"Suggestions for word 'lugica':\", spell_checker_suggestions('lugica'))\n",
    "print(\"Suggestions checker for word 'jxva'\", spell_checker_suggestions('jxva'))\n",
    "print(\"Suggestions checker for word 'paxa':\", spell_checker_suggestions('paxa'))"
   ]
  },
  {
   "cell_type": "code",
   "execution_count": 29,
   "id": "ae072840-be64-4761-b95b-691929fffa81",
   "metadata": {},
   "outputs": [
    {
     "name": "stdout",
     "output_type": "stream",
     "text": [
      "The spell checker success rate is: 0.7688172043010753\n"
     ]
    }
   ],
   "source": [
    "evaluate()"
   ]
  },
  {
   "cell_type": "code",
   "execution_count": 30,
   "id": "0052a88a-20b2-44ef-90fb-5e42c54be259",
   "metadata": {},
   "outputs": [],
   "source": [
    "def change_character_order(slices):\n",
    "    return [ l+r[1]+r[0]+r[2:] for l, r in slices if len(r) > 1]"
   ]
  },
  {
   "cell_type": "code",
   "execution_count": 31,
   "id": "ad4acaac-df3d-4f0d-a90d-449f9b98cc71",
   "metadata": {},
   "outputs": [],
   "source": [
    "def word_generator(word):\n",
    "    slices = [ (word[:ix], word[ix:]) for ix in range(len(word)+1) ]\n",
    "    return insert_character(slices) + remove_character(slices) + replace_character(slices) + change_character_order(slices)"
   ]
  },
  {
   "cell_type": "code",
   "execution_count": 32,
   "id": "4c930a1a-4c73-447a-9afa-9f36ba3e8470",
   "metadata": {},
   "outputs": [
    {
     "name": "stdout",
     "output_type": "stream",
     "text": [
      "Spell checker for word 'ólgica': lógica\n",
      "Spell checker for word 'ajva': java\n",
      "Spell checker for word 'paar': para\n",
      "Suggestions for word 'ólgica': ['lógica']\n",
      "Suggestions checker for word 'ajva' ['java']\n",
      "Suggestions checker for word 'paar': ['pagar', 'parar', 'par', 'par', 'phar', 'pair', 'paas', 'para']\n"
     ]
    }
   ],
   "source": [
    "print(\"Spell checker for word 'ólgica':\", spell_checker('ólgica'))\n",
    "print(\"Spell checker for word 'ajva':\", spell_checker('ajva'))\n",
    "print(\"Spell checker for word 'paar':\", spell_checker('paar'))\n",
    "\n",
    "print(\"Suggestions for word 'ólgica':\", spell_checker_suggestions('ólgica'))\n",
    "print(\"Suggestions checker for word 'ajva'\", spell_checker_suggestions('ajva'))\n",
    "print(\"Suggestions checker for word 'paar':\", spell_checker_suggestions('paar'))"
   ]
  },
  {
   "cell_type": "code",
   "execution_count": 33,
   "id": "d61a4794-ef8f-4529-b4c8-edc984599048",
   "metadata": {},
   "outputs": [
    {
     "name": "stdout",
     "output_type": "stream",
     "text": [
      "The spell checker success rate is: 0.7688172043010753\n"
     ]
    }
   ],
   "source": [
    "evaluate()"
   ]
  },
  {
   "cell_type": "markdown",
   "id": "80e1d5a2-de47-48a1-930a-3e9ef0af9b97",
   "metadata": {},
   "source": [
    "## Add unknown words rate to evaluation function"
   ]
  },
  {
   "cell_type": "code",
   "execution_count": 34,
   "id": "a4fad074-3c05-43bc-b5b2-24018a912da5",
   "metadata": {},
   "outputs": [],
   "source": [
    "def evaluate():\n",
    "    success_rate = sum([ 1 for t in test_words if spell_checker(t[1]) == t[0] ]) / len(test_words)\n",
    "    print(f'The spell checker success rate is: {success_rate}')\n",
    "    \n",
    "    unknown_rate = sum([ 1 for t in test_words if t[0] not in words_catalog ]) / len(test_words)\n",
    "    print(f'The unknown words rate is: {unknown_rate}')"
   ]
  },
  {
   "cell_type": "code",
   "execution_count": 35,
   "id": "95a9d6c0-1d68-4b9a-aae5-88a97e8e667b",
   "metadata": {},
   "outputs": [
    {
     "name": "stdout",
     "output_type": "stream",
     "text": [
      "The spell checker success rate is: 0.7688172043010753\n",
      "The unknown words rate is: 0.06989247311827956\n"
     ]
    }
   ],
   "source": [
    "evaluate()"
   ]
  },
  {
   "cell_type": "markdown",
   "id": "e28eb456-9ade-4193-b3a8-84a3061d55aa",
   "metadata": {},
   "source": [
    "## Enhance the spell checker"
   ]
  },
  {
   "cell_type": "code",
   "execution_count": 36,
   "id": "1fffde60-fe99-42e3-8706-476d0aaba001",
   "metadata": {},
   "outputs": [
    {
     "data": {
      "text/plain": [
       "['lóoogica', 'lógica']"
      ]
     },
     "execution_count": 36,
     "metadata": {},
     "output_type": "execute_result"
    }
   ],
   "source": [
    "def word_generator_enhanced(word):\n",
    "    generated_words = word_generator(word)\n",
    "    other_generated_words = [ w2 for w in generated_words for w2 in word_generator(w) ]\n",
    "    all_generated_words = list(set(generated_words + other_generated_words))\n",
    "    return [word] + [ w for w in all_generated_words if w in words_catalog ]\n",
    "\n",
    "word_generator_enhanced('lóoogica')"
   ]
  },
  {
   "cell_type": "code",
   "execution_count": 37,
   "id": "ed7bbd99-be01-414f-8600-53a3e1ca7310",
   "metadata": {},
   "outputs": [],
   "source": [
    "def new_spell_checker_suggestions(word):\n",
    "    return word_generator_enhanced(word)\n",
    "\n",
    "def new_spell_checker(word):\n",
    "    generated_words = word_generator_enhanced(word)\n",
    "    return max(generated_words, key=lambda w: word_frequency[w]/len_word_catalog)"
   ]
  },
  {
   "cell_type": "code",
   "execution_count": 38,
   "id": "84ccbfc6-a096-4dde-864c-bd96731b0fd0",
   "metadata": {},
   "outputs": [
    {
     "name": "stdout",
     "output_type": "stream",
     "text": [
      "Spell checker for word 'óllgica': lógica\n",
      "Spell checker for word 'jaaava': java\n",
      "Spell checker for word 'paxr': para\n",
      "Suggestions for word 'óllgica': ['óllgica', 'lógica', 'bélgica']\n",
      "Suggestions checker for word 'paxr' ['paxr', 'pao', 'pass', 'pair', 'por', 'phar', 'puxo', 'puxar', 'pixar', 'puxe', 'para', 'paz', 'pago', 'pr', 'page', 'mar', 'parar', 'par', 'pagar', 'sair', 'paga', 'ax', 'pau', 'paas', 'dar', 'pôr', 'taxa', 'paul', 'puxa', 'papo', 'psr', 'pior', 'pay', 'pad', 'poxa', 'max', 'var', 'per', 'exr', 'país', 'pais', 'pra', 'tar', 'jar', 'pixlr', 'pai', 'cair', 'paro', 'bar', 'pare', 'path', 'ar', 'paira', 'px']\n",
      "Suggestions checker for word 'paxr': ['paxr', 'pao', 'pass', 'pair', 'por', 'phar', 'puxo', 'puxar', 'pixar', 'puxe', 'para', 'paz', 'pago', 'pr', 'page', 'mar', 'parar', 'par', 'pagar', 'sair', 'paga', 'ax', 'pau', 'paas', 'dar', 'pôr', 'taxa', 'paul', 'puxa', 'papo', 'psr', 'pior', 'pay', 'pad', 'poxa', 'max', 'var', 'per', 'exr', 'país', 'pais', 'pra', 'tar', 'jar', 'pixlr', 'pai', 'cair', 'paro', 'bar', 'pare', 'path', 'ar', 'paira', 'px']\n"
     ]
    }
   ],
   "source": [
    "print(\"Spell checker for word 'óllgica':\", new_spell_checker('óllgica'))\n",
    "print(\"Spell checker for word 'jaaava':\", new_spell_checker('jaaava'))\n",
    "print(\"Spell checker for word 'paxr':\", new_spell_checker('paxr'))\n",
    "\n",
    "print(\"Suggestions for word 'óllgica':\", new_spell_checker_suggestions('óllgica'))\n",
    "print(\"Suggestions checker for word 'paxr'\", new_spell_checker_suggestions('paxr'))\n",
    "print(\"Suggestions checker for word 'paxr':\", new_spell_checker_suggestions('paxr'))"
   ]
  },
  {
   "cell_type": "code",
   "execution_count": 39,
   "id": "ae3237c9-df5e-473e-9762-c79919e501a4",
   "metadata": {},
   "outputs": [],
   "source": [
    "def evaluate():\n",
    "    success_rate = sum([ 1 for t in test_words if new_spell_checker(t[1]) == t[0] ]) / len(test_words)\n",
    "    print(f'The spell checker success rate is: {success_rate}')\n",
    "    \n",
    "    unknown_rate = sum([ 1 for t in test_words if t[0] not in words_catalog ]) / len(test_words)\n",
    "    print(f'The unknown words rate is: {unknown_rate}')"
   ]
  },
  {
   "cell_type": "code",
   "execution_count": 40,
   "id": "ed2d1bc9-561d-4881-b8ab-1c5c311db767",
   "metadata": {},
   "outputs": [
    {
     "name": "stdout",
     "output_type": "stream",
     "text": [
      "The spell checker success rate is: 0.553763440860215\n",
      "The unknown words rate is: 0.06989247311827956\n"
     ]
    }
   ],
   "source": [
    "evaluate()"
   ]
  },
  {
   "cell_type": "code",
   "execution_count": 41,
   "id": "f6ee52db-310a-4300-8380-12e488335118",
   "metadata": {},
   "outputs": [
    {
     "name": "stdout",
     "output_type": "stream",
     "text": [
      "lógica\n",
      "fica\n"
     ]
    }
   ],
   "source": [
    "print(spell_checker('lgica'))\n",
    "print(new_spell_checker('lgica'))"
   ]
  }
 ],
 "metadata": {
  "kernelspec": {
   "display_name": "Python 3",
   "language": "python",
   "name": "python3"
  },
  "language_info": {
   "codemirror_mode": {
    "name": "ipython",
    "version": 3
   },
   "file_extension": ".py",
   "mimetype": "text/x-python",
   "name": "python",
   "nbconvert_exporter": "python",
   "pygments_lexer": "ipython3",
   "version": "3.8.5"
  },
  "toc-autonumbering": true
 },
 "nbformat": 4,
 "nbformat_minor": 5
}
