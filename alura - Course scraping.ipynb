{
 "cells": [
  {
   "cell_type": "markdown",
   "id": "70ed5431-a17d-4cbd-8317-7daaeaf84ef2",
   "metadata": {},
   "source": [
    "# Alura Course - scraping"
   ]
  },
  {
   "cell_type": "markdown",
   "id": "281f814b-f6c7-4dc6-ac77-c56074b6a0bd",
   "metadata": {},
   "source": [
    "## import libs"
   ]
  },
  {
   "cell_type": "code",
   "execution_count": 1,
   "id": "d5e4ba32-82c4-475d-a438-e334039415c0",
   "metadata": {},
   "outputs": [],
   "source": [
    "import bs4\n",
    "import urllib.request as urllib_request\n",
    "import pandas as pd"
   ]
  },
  {
   "cell_type": "markdown",
   "id": "5df1505c-6706-425e-8d69-09b89b8c8084",
   "metadata": {},
   "source": [
    "## My first scraping "
   ]
  },
  {
   "cell_type": "code",
   "execution_count": 2,
   "id": "328c5b40-203b-4699-910c-3371b42e6611",
   "metadata": {},
   "outputs": [],
   "source": [
    "url = r'https://alura-site-scraping.herokuapp.com/hello-world.php'"
   ]
  },
  {
   "cell_type": "code",
   "execution_count": 3,
   "id": "1a33c37f-921f-42b8-bec1-52a493e1f003",
   "metadata": {},
   "outputs": [],
   "source": [
    "response = urllib_request.urlopen(url)"
   ]
  },
  {
   "cell_type": "code",
   "execution_count": 4,
   "id": "22f8e07a-2fa1-4f6d-af03-87c6adab3494",
   "metadata": {},
   "outputs": [],
   "source": [
    "html = response.read()"
   ]
  },
  {
   "cell_type": "code",
   "execution_count": 5,
   "id": "3c20ecbf-99da-424f-8912-3f2aecaf220e",
   "metadata": {},
   "outputs": [],
   "source": [
    "soup = bs4.BeautifulSoup(html, 'html.parser')"
   ]
  },
  {
   "cell_type": "code",
   "execution_count": 6,
   "id": "77626874-5284-47b8-a920-2972bcf9e1a0",
   "metadata": {},
   "outputs": [
    {
     "data": {
      "text/plain": [
       "<h1 id=\"hello-world\">Hello World!!!</h1>"
      ]
     },
     "execution_count": 6,
     "metadata": {},
     "output_type": "execute_result"
    }
   ],
   "source": [
    "soup.find('h1', id='hello-world')"
   ]
  },
  {
   "cell_type": "code",
   "execution_count": 7,
   "id": "fa17e8c5-b5c4-4a3e-9035-f42643a29632",
   "metadata": {},
   "outputs": [
    {
     "data": {
      "text/plain": [
       "'Hello World!!!'"
      ]
     },
     "execution_count": 7,
     "metadata": {},
     "output_type": "execute_result"
    }
   ],
   "source": [
    "soup.find('h1', id='hello-world').get_text()"
   ]
  },
  {
   "cell_type": "code",
   "execution_count": 8,
   "id": "0dfc4f12-90a4-4610-ace5-76d77286ac7e",
   "metadata": {},
   "outputs": [
    {
     "data": {
      "text/plain": [
       "'Web Scraping é o termo utilizado para definir a prática de coletar automaticamente informações na Internet. Isto é feito, geralmente, por meio de programas que simulam a navegação humana na Web.'"
      ]
     },
     "execution_count": 8,
     "metadata": {},
     "output_type": "execute_result"
    }
   ],
   "source": [
    "soup.find('p').get_text()"
   ]
  },
  {
   "cell_type": "markdown",
   "id": "9044742d-b349-4662-9176-9af3beb09747",
   "metadata": {},
   "source": [
    "## Request with headers"
   ]
  },
  {
   "cell_type": "code",
   "execution_count": 9,
   "id": "a26c6ee2-3092-42f6-ac46-053fee5eef11",
   "metadata": {},
   "outputs": [
    {
     "data": {
      "text/plain": [
       "'Mergulhe em Tecnologia!'"
      ]
     },
     "execution_count": 9,
     "metadata": {},
     "output_type": "execute_result"
    }
   ],
   "source": [
    "url = r'https://www.alura.com.br/'\n",
    "headers = { 'user-agent': 'Mozilla/5.0 (Windows NT 10.0; Win64; x64) AppleWebKit/537.36 (KHTML, like Gecko) Chrome/90.0.4430.212 Safari/537.36' }\n",
    "\n",
    "req = urllib_request.Request(url, headers=headers)\n",
    "response = urllib_request.urlopen(req)\n",
    "html = response.read()\n",
    "soup = bs4.BeautifulSoup(html, 'html.parser')\n",
    "soup.find('h1', class_='home__titles__main-title').get_text()"
   ]
  },
  {
   "cell_type": "markdown",
   "id": "aea50bc4-d7ec-4562-aa9d-5ad148abc408",
   "metadata": {},
   "source": [
    "## parse bytes to string"
   ]
  },
  {
   "cell_type": "code",
   "execution_count": 10,
   "id": "9985f3cf-45b3-4277-a05c-c5e7e9668948",
   "metadata": {},
   "outputs": [
    {
     "data": {
      "text/plain": [
       "bytes"
      ]
     },
     "execution_count": 10,
     "metadata": {},
     "output_type": "execute_result"
    }
   ],
   "source": [
    "url = 'https://alura-site-scraping.herokuapp.com/index.php'\n",
    "\n",
    "resposnse = urllib_request.urlopen(url)\n",
    "html = response.read()\n",
    "\n",
    "type(html)"
   ]
  },
  {
   "cell_type": "code",
   "execution_count": 11,
   "id": "2d5c77e8-94b5-418e-af8a-061d573f5ac9",
   "metadata": {},
   "outputs": [
    {
     "data": {
      "text/plain": [
       "str"
      ]
     },
     "execution_count": 11,
     "metadata": {},
     "output_type": "execute_result"
    }
   ],
   "source": [
    "html = html.decode('utf-8')\n",
    "\n",
    "type(html)"
   ]
  },
  {
   "cell_type": "markdown",
   "id": "ad89b781-113d-4ec2-a741-d6d22ffb7f73",
   "metadata": {},
   "source": [
    "## Getting data from \"Alura motors\" web site"
   ]
  },
  {
   "cell_type": "code",
   "execution_count": 12,
   "id": "c50a18c3-2004-4c49-94e1-280b4b8fab2e",
   "metadata": {},
   "outputs": [],
   "source": [
    "url = r'https://alura-site-scraping.herokuapp.com/index.php'"
   ]
  },
  {
   "cell_type": "code",
   "execution_count": 13,
   "id": "d412a68a-a3a1-453a-8f30-b5d9b2013b67",
   "metadata": {},
   "outputs": [],
   "source": [
    "html = urllib_request.urlopen(url).read().decode('utf-8')"
   ]
  },
  {
   "cell_type": "code",
   "execution_count": 14,
   "id": "7171c600-4da1-4f76-b858-ef33e635bede",
   "metadata": {},
   "outputs": [],
   "source": [
    "soup = bs4.BeautifulSoup(html, 'html.parser')"
   ]
  },
  {
   "cell_type": "code",
   "execution_count": 15,
   "id": "bb98aa5e-567b-47f4-9773-1f3aff27f00d",
   "metadata": {},
   "outputs": [],
   "source": [
    "ad = soup.find('div', class_='well card')"
   ]
  },
  {
   "cell_type": "code",
   "execution_count": 16,
   "id": "b79d83a2-8543-47de-ad4e-03297b4e8ae5",
   "metadata": {},
   "outputs": [
    {
     "data": {
      "text/plain": [
       "<div class=\"well card\">\n",
       "<div class=\"col-md-3 image-card\">\n",
       "<img alt=\"Foto\" height=\"155\" src=\"https://caelum-online-public.s3.amazonaws.com/1381-scraping/01/img-cars/lamborghini-aventador/lamborghini-aventador-2932196__340.jpg\" width=\"220\"/>\n",
       "</div>\n",
       "<div class=\"col-md-6 body-card\">\n",
       "<p class=\"txt-name inline\">LAMBORGHINI AVENTADOR</p>\n",
       "<p class=\"txt-category badge badge-secondary inline\">USADO</p>\n",
       "<p class=\"txt-motor\">Motor 1.8 16v</p>\n",
       "<p class=\"txt-description\">Ano 1993 - 55.286 km</p>\n",
       "<ul class=\"lst-items\">\n",
       "<li class=\"txt-items\">► 4 X 4</li>\n",
       "<li class=\"txt-items\">► Câmera de estacionamento</li>\n",
       "<li class=\"txt-items\">► Controle de tração</li>\n",
       "<li class=\"txt-items\">► Sensor de estacionamento</li>\n",
       "<li class=\"txt-items\">...</li>\n",
       "</ul>\n",
       "<p class=\"txt-location\">Belo Horizonte - MG</p>\n",
       "</div>\n",
       "<div class=\"col-md-3 value-card\">\n",
       "<div class=\"value\">\n",
       "<p class=\"txt-value\">R$ 338.000</p>\n",
       "</div>\n",
       "</div>\n",
       "</div>"
      ]
     },
     "execution_count": 16,
     "metadata": {},
     "output_type": "execute_result"
    }
   ],
   "source": [
    "ad"
   ]
  },
  {
   "cell_type": "code",
   "execution_count": 17,
   "id": "cedf8b76-71fb-4fbe-8f07-afb9afd2e35e",
   "metadata": {},
   "outputs": [
    {
     "data": {
      "text/plain": [
       "{'name': 'LAMBORGHINI AVENTADOR',\n",
       " 'category': 'USADO',\n",
       " 'engine': 'Motor 1.8 16v',\n",
       " 'description': 'Ano 1993 - 55.286 km',\n",
       " 'location': 'Belo Horizonte - MG',\n",
       " 'items': ['4 X 4',\n",
       "  'Câmera de estacionamento',\n",
       "  'Controle de tração',\n",
       "  'Sensor de estacionamento']}"
      ]
     },
     "execution_count": 17,
     "metadata": {},
     "output_type": "execute_result"
    }
   ],
   "source": [
    "info_div = ad.find('div', class_='body-card')\n",
    "\n",
    "car_info = {\n",
    "    'name': info_div.find('p', class_='txt-name').get_text(),\n",
    "    'category': info_div.find('p', class_='txt-category').get_text(),\n",
    "    'engine': info_div.find('p', class_='txt-motor').get_text(),\n",
    "    'description': info_div.find('p', class_='txt-description').get_text(),\n",
    "    'location': info_div.find('p', class_='txt-location').get_text(),\n",
    "    'items': [ it.get_text()[2:] for it in info_div.find('ul', class_='lst-items').find_all('li')[:-1] ]\n",
    "}\n",
    "\n",
    "car_info"
   ]
  },
  {
   "cell_type": "code",
   "execution_count": 18,
   "id": "652210b0-baa5-43cc-8b9e-ac17b2392c56",
   "metadata": {},
   "outputs": [
    {
     "data": {
      "text/plain": [
       "'R$ 338.000'"
      ]
     },
     "execution_count": 18,
     "metadata": {},
     "output_type": "execute_result"
    }
   ],
   "source": [
    "car_value = ad.find('div', class_='value-card').find('p').getText()\n",
    "car_value"
   ]
  },
  {
   "cell_type": "code",
   "execution_count": 19,
   "id": "c89440f8-7769-4a37-bf1e-8b9da55e1191",
   "metadata": {},
   "outputs": [
    {
     "name": "stdout",
     "output_type": "stream",
     "text": [
      "https://caelum-online-public.s3.amazonaws.com/1381-scraping/01/img-cars/lamborghini-aventador/lamborghini-aventador-2932196__340.jpg\n"
     ]
    },
    {
     "data": {
      "text/html": [
       "<img alt=\"Foto\" height=\"155\" src=\"https://caelum-online-public.s3.amazonaws.com/1381-scraping/01/img-cars/lamborghini-aventador/lamborghini-aventador-2932196__340.jpg\" width=\"220\"/>"
      ],
      "text/plain": [
       "<IPython.core.display.HTML object>"
      ]
     },
     "metadata": {},
     "output_type": "display_data"
    }
   ],
   "source": [
    "car_image = ad.find('div', class_='image-card').find('img').get('src')\n",
    "print(car_image)\n",
    "\n",
    "urllib_request.urlretrieve(car_image, f'./data/{car_image.split(\"/\")[-1]}')\n",
    "\n",
    "from IPython.core.display import display, HTML\n",
    "display(HTML(str(ad.find('div', class_='image-card').find('img'))))"
   ]
  },
  {
   "cell_type": "code",
   "execution_count": 20,
   "id": "a28f8585-15d3-46f6-83ed-42b571c7863c",
   "metadata": {},
   "outputs": [],
   "source": [
    "car_info['value'] = int(car_value[3:].replace('.', ''))"
   ]
  },
  {
   "cell_type": "code",
   "execution_count": 21,
   "id": "f4af3d96-297a-4a66-ab8c-038f465313f5",
   "metadata": {},
   "outputs": [],
   "source": [
    "car_info['image'] = car_image"
   ]
  },
  {
   "cell_type": "code",
   "execution_count": 22,
   "id": "0aaf82ed-9bac-471f-8999-3734e91ac2ea",
   "metadata": {},
   "outputs": [
    {
     "data": {
      "text/plain": [
       "{'name': 'LAMBORGHINI AVENTADOR',\n",
       " 'category': 'USADO',\n",
       " 'engine': 'Motor 1.8 16v',\n",
       " 'description': 'Ano 1993 - 55.286 km',\n",
       " 'location': 'Belo Horizonte - MG',\n",
       " 'items': ['4 X 4',\n",
       "  'Câmera de estacionamento',\n",
       "  'Controle de tração',\n",
       "  'Sensor de estacionamento'],\n",
       " 'value': 338000,\n",
       " 'image': 'https://caelum-online-public.s3.amazonaws.com/1381-scraping/01/img-cars/lamborghini-aventador/lamborghini-aventador-2932196__340.jpg'}"
      ]
     },
     "execution_count": 22,
     "metadata": {},
     "output_type": "execute_result"
    }
   ],
   "source": [
    "car_info"
   ]
  },
  {
   "cell_type": "code",
   "execution_count": 23,
   "id": "46354fc3-c33b-42e0-871b-9bf070cc99f6",
   "metadata": {},
   "outputs": [
    {
     "data": {
      "text/html": [
       "<div>\n",
       "<style scoped>\n",
       "    .dataframe tbody tr th:only-of-type {\n",
       "        vertical-align: middle;\n",
       "    }\n",
       "\n",
       "    .dataframe tbody tr th {\n",
       "        vertical-align: top;\n",
       "    }\n",
       "\n",
       "    .dataframe thead th {\n",
       "        text-align: right;\n",
       "    }\n",
       "</style>\n",
       "<table border=\"1\" class=\"dataframe\">\n",
       "  <thead>\n",
       "    <tr style=\"text-align: right;\">\n",
       "      <th></th>\n",
       "      <th>name</th>\n",
       "      <th>category</th>\n",
       "      <th>engine</th>\n",
       "      <th>description</th>\n",
       "      <th>location</th>\n",
       "      <th>items</th>\n",
       "      <th>value</th>\n",
       "      <th>image</th>\n",
       "    </tr>\n",
       "  </thead>\n",
       "  <tbody>\n",
       "    <tr>\n",
       "      <th>0</th>\n",
       "      <td>LAMBORGHINI AVENTADOR</td>\n",
       "      <td>USADO</td>\n",
       "      <td>Motor 1.8 16v</td>\n",
       "      <td>Ano 1993 - 55.286 km</td>\n",
       "      <td>Belo Horizonte - MG</td>\n",
       "      <td>[4 X 4, Câmera de estacionamento, Controle de ...</td>\n",
       "      <td>338000</td>\n",
       "      <td>https://caelum-online-public.s3.amazonaws.com/...</td>\n",
       "    </tr>\n",
       "  </tbody>\n",
       "</table>\n",
       "</div>"
      ],
      "text/plain": [
       "                    name category         engine           description  \\\n",
       "0  LAMBORGHINI AVENTADOR    USADO  Motor 1.8 16v  Ano 1993 - 55.286 km   \n",
       "\n",
       "              location                                              items  \\\n",
       "0  Belo Horizonte - MG  [4 X 4, Câmera de estacionamento, Controle de ...   \n",
       "\n",
       "    value                                              image  \n",
       "0  338000  https://caelum-online-public.s3.amazonaws.com/...  "
      ]
     },
     "execution_count": 23,
     "metadata": {},
     "output_type": "execute_result"
    }
   ],
   "source": [
    "pd.DataFrame.from_dict(car_info, orient='index').T"
   ]
  },
  {
   "cell_type": "markdown",
   "id": "9468b60a-91a8-4759-bd78-fd6adf039ff0",
   "metadata": {},
   "source": [
    "## Get all data from page"
   ]
  },
  {
   "cell_type": "code",
   "execution_count": 24,
   "id": "8a4e4aee-7ce4-431e-bb3f-37b25523e53c",
   "metadata": {},
   "outputs": [],
   "source": [
    "def car_ad_to_map(ad):\n",
    "    image_div = ad.find('div', class_='image-card')\n",
    "    info_div = ad.find('div', class_='body-card')\n",
    "    value_div = ad.find('div', class_='value-card')\n",
    "    \n",
    "    return {\n",
    "        'name': info_div.find('p', class_='txt-name').get_text(),\n",
    "        'category': info_div.find('p', class_='txt-category').get_text(),\n",
    "        'engine': info_div.find('p', class_='txt-motor').get_text(),\n",
    "        'description': info_div.find('p', class_='txt-description').get_text(),\n",
    "        'location': info_div.find('p', class_='txt-location').get_text(),\n",
    "        'items': [ it.get_text()[2:] for it in info_div.find('ul', class_='lst-items').find_all('li')[:-1] ],\n",
    "        'value': int(value_div.find('p').getText()[3:].replace('.', '')),\n",
    "        'image': image_div.find('img').get('src')\n",
    "    }\n",
    "    "
   ]
  },
  {
   "cell_type": "code",
   "execution_count": 25,
   "id": "574698c6-6bda-46ac-b546-cd40c9d1abbd",
   "metadata": {},
   "outputs": [
    {
     "data": {
      "text/plain": [
       "{'name': 'LAMBORGHINI AVENTADOR',\n",
       " 'category': 'USADO',\n",
       " 'engine': 'Motor 1.8 16v',\n",
       " 'description': 'Ano 1993 - 55.286 km',\n",
       " 'location': 'Belo Horizonte - MG',\n",
       " 'items': ['4 X 4',\n",
       "  'Câmera de estacionamento',\n",
       "  'Controle de tração',\n",
       "  'Sensor de estacionamento'],\n",
       " 'value': 338000,\n",
       " 'image': 'https://caelum-online-public.s3.amazonaws.com/1381-scraping/01/img-cars/lamborghini-aventador/lamborghini-aventador-2932196__340.jpg'}"
      ]
     },
     "execution_count": 25,
     "metadata": {},
     "output_type": "execute_result"
    }
   ],
   "source": [
    "car_ad_to_map(ad)"
   ]
  },
  {
   "cell_type": "code",
   "execution_count": 26,
   "id": "317f8348-5467-4c42-90d0-f628e6eade07",
   "metadata": {},
   "outputs": [],
   "source": [
    "page_data = [ car_ad_to_map(ad) for ad in soup.find_all('div', class_='well card') ]"
   ]
  },
  {
   "cell_type": "code",
   "execution_count": 27,
   "id": "8d21bbac-27c3-4175-b83f-ead0938b0f54",
   "metadata": {},
   "outputs": [
    {
     "data": {
      "text/plain": [
       "[{'name': 'LAMBORGHINI AVENTADOR',\n",
       "  'category': 'USADO',\n",
       "  'engine': 'Motor 1.8 16v',\n",
       "  'description': 'Ano 1993 - 55.286 km',\n",
       "  'location': 'Belo Horizonte - MG',\n",
       "  'items': ['4 X 4',\n",
       "   'Câmera de estacionamento',\n",
       "   'Controle de tração',\n",
       "   'Sensor de estacionamento'],\n",
       "  'value': 338000,\n",
       "  'image': 'https://caelum-online-public.s3.amazonaws.com/1381-scraping/01/img-cars/lamborghini-aventador/lamborghini-aventador-2932196__340.jpg'},\n",
       " {'name': 'BMW M2',\n",
       "  'category': 'USADO',\n",
       "  'engine': 'Motor 3.0 32v',\n",
       "  'description': 'Ano 2018 - 83.447 km',\n",
       "  'location': 'Belo Horizonte - MG',\n",
       "  'items': ['Câmera de estacionamento',\n",
       "   'Controle de estabilidade',\n",
       "   'Travas elétricas',\n",
       "   'Freios ABS'],\n",
       "  'value': 346000,\n",
       "  'image': 'https://caelum-online-public.s3.amazonaws.com/1381-scraping/01/img-cars/bmw-m2/bmw-m2-2970882__340.jpg'}]"
      ]
     },
     "execution_count": 27,
     "metadata": {},
     "output_type": "execute_result"
    }
   ],
   "source": [
    "page_data[:2]"
   ]
  },
  {
   "cell_type": "markdown",
   "id": "a720b3fe-b84b-4f9e-8f3d-d008f40e00f2",
   "metadata": {},
   "source": [
    "## Getting all data from site"
   ]
  },
  {
   "cell_type": "code",
   "execution_count": 28,
   "id": "d9d8d686-e35a-4e5c-80b0-88a54f385631",
   "metadata": {},
   "outputs": [],
   "source": [
    "url = 'https://alura-site-scraping.herokuapp.com/index.php?page={page}'"
   ]
  },
  {
   "cell_type": "code",
   "execution_count": 29,
   "id": "cadd47e0-fc66-4060-bd25-d3fcffad743f",
   "metadata": {},
   "outputs": [
    {
     "data": {
      "text/plain": [
       "246"
      ]
     },
     "execution_count": 29,
     "metadata": {},
     "output_type": "execute_result"
    }
   ],
   "source": [
    "car_data = []\n",
    "page_number = 0\n",
    "\n",
    "while True:\n",
    "    page_number += 1\n",
    "    response = urllib_request.urlopen(url.format(page=page_number))\n",
    "    html = response.read().decode('utf-8')\n",
    "    soup = bs4.BeautifulSoup(html, 'html.parser')\n",
    "    \n",
    "    ad_list = soup.find_all('div', class_='well card')\n",
    "    \n",
    "    if len(ad_list) == 0:\n",
    "        break\n",
    "    \n",
    "    car_data = car_data + [ car_ad_to_map(ad) for ad in ad_list ]\n",
    "    \n",
    "len(car_data)"
   ]
  },
  {
   "cell_type": "code",
   "execution_count": 30,
   "id": "1b7faefd-fc4b-49c1-8054-5f8fa5258585",
   "metadata": {},
   "outputs": [
    {
     "data": {
      "text/html": [
       "<div>\n",
       "<style scoped>\n",
       "    .dataframe tbody tr th:only-of-type {\n",
       "        vertical-align: middle;\n",
       "    }\n",
       "\n",
       "    .dataframe tbody tr th {\n",
       "        vertical-align: top;\n",
       "    }\n",
       "\n",
       "    .dataframe thead th {\n",
       "        text-align: right;\n",
       "    }\n",
       "</style>\n",
       "<table border=\"1\" class=\"dataframe\">\n",
       "  <thead>\n",
       "    <tr style=\"text-align: right;\">\n",
       "      <th></th>\n",
       "      <th>name</th>\n",
       "      <th>category</th>\n",
       "      <th>engine</th>\n",
       "      <th>description</th>\n",
       "      <th>location</th>\n",
       "      <th>items</th>\n",
       "      <th>value</th>\n",
       "      <th>image</th>\n",
       "    </tr>\n",
       "  </thead>\n",
       "  <tbody>\n",
       "    <tr>\n",
       "      <th>0</th>\n",
       "      <td>LAMBORGHINI AVENTADOR</td>\n",
       "      <td>USADO</td>\n",
       "      <td>Motor 1.8 16v</td>\n",
       "      <td>Ano 1993 - 55.286 km</td>\n",
       "      <td>Belo Horizonte - MG</td>\n",
       "      <td>[4 X 4, Câmera de estacionamento, Controle de ...</td>\n",
       "      <td>338000</td>\n",
       "      <td>https://caelum-online-public.s3.amazonaws.com/...</td>\n",
       "    </tr>\n",
       "    <tr>\n",
       "      <th>1</th>\n",
       "      <td>BMW M2</td>\n",
       "      <td>USADO</td>\n",
       "      <td>Motor 3.0 32v</td>\n",
       "      <td>Ano 2018 - 83.447 km</td>\n",
       "      <td>Belo Horizonte - MG</td>\n",
       "      <td>[Câmera de estacionamento, Controle de estabil...</td>\n",
       "      <td>346000</td>\n",
       "      <td>https://caelum-online-public.s3.amazonaws.com/...</td>\n",
       "    </tr>\n",
       "    <tr>\n",
       "      <th>2</th>\n",
       "      <td>ALFA</td>\n",
       "      <td>USADO</td>\n",
       "      <td>Motor 1.8 16v</td>\n",
       "      <td>Ano 2004 - 19.722 km</td>\n",
       "      <td>Rio de Janeiro - RJ</td>\n",
       "      <td>[Central multimídia, Bancos de couro, Rodas de...</td>\n",
       "      <td>480000</td>\n",
       "      <td>https://caelum-online-public.s3.amazonaws.com/...</td>\n",
       "    </tr>\n",
       "    <tr>\n",
       "      <th>3</th>\n",
       "      <td>PUECH</td>\n",
       "      <td>USADO</td>\n",
       "      <td>Motor Diesel V8</td>\n",
       "      <td>Ano 1992 - 34.335 km</td>\n",
       "      <td>São Paulo - SP</td>\n",
       "      <td>[Bancos de couro, Freios ABS, Rodas de liga, C...</td>\n",
       "      <td>133000</td>\n",
       "      <td>https://caelum-online-public.s3.amazonaws.com/...</td>\n",
       "    </tr>\n",
       "    <tr>\n",
       "      <th>4</th>\n",
       "      <td>LAMBORGHINI MURCIELAGO</td>\n",
       "      <td>USADO</td>\n",
       "      <td>Motor 1.0 8v</td>\n",
       "      <td>Ano 1991 - 464 km</td>\n",
       "      <td>Belo Horizonte - MG</td>\n",
       "      <td>[Central multimídia, Teto panorâmico, Sensor c...</td>\n",
       "      <td>175000</td>\n",
       "      <td>https://caelum-online-public.s3.amazonaws.com/...</td>\n",
       "    </tr>\n",
       "    <tr>\n",
       "      <th>...</th>\n",
       "      <td>...</td>\n",
       "      <td>...</td>\n",
       "      <td>...</td>\n",
       "      <td>...</td>\n",
       "      <td>...</td>\n",
       "      <td>...</td>\n",
       "      <td>...</td>\n",
       "      <td>...</td>\n",
       "    </tr>\n",
       "    <tr>\n",
       "      <th>241</th>\n",
       "      <td>SUV REAR TIRE</td>\n",
       "      <td>USADO</td>\n",
       "      <td>Motor 3.0 32v</td>\n",
       "      <td>Ano 1998 - 74.292 km</td>\n",
       "      <td>São Paulo - SP</td>\n",
       "      <td>[Câmera de estacionamento, Rodas de liga, Sens...</td>\n",
       "      <td>489000</td>\n",
       "      <td>https://caelum-online-public.s3.amazonaws.com/...</td>\n",
       "    </tr>\n",
       "    <tr>\n",
       "      <th>242</th>\n",
       "      <td>ANTIQUE</td>\n",
       "      <td>NOVO</td>\n",
       "      <td>Motor 2.0 16v</td>\n",
       "      <td>Ano 2019 - 0 km</td>\n",
       "      <td>Belo Horizonte - MG</td>\n",
       "      <td>[Bancos de couro, Freios ABS, Sensor de estaci...</td>\n",
       "      <td>427000</td>\n",
       "      <td>https://caelum-online-public.s3.amazonaws.com/...</td>\n",
       "    </tr>\n",
       "    <tr>\n",
       "      <th>243</th>\n",
       "      <td>SPORT</td>\n",
       "      <td>USADO</td>\n",
       "      <td>Motor 2.0 16v</td>\n",
       "      <td>Ano 2001 - 102.776 km</td>\n",
       "      <td>Belo Horizonte - MG</td>\n",
       "      <td>[Sensor crepuscular, Sensor de chuva, Vidros e...</td>\n",
       "      <td>203000</td>\n",
       "      <td>https://caelum-online-public.s3.amazonaws.com/...</td>\n",
       "    </tr>\n",
       "    <tr>\n",
       "      <th>244</th>\n",
       "      <td>IMPERIAL</td>\n",
       "      <td>USADO</td>\n",
       "      <td>Motor 1.8 16v</td>\n",
       "      <td>Ano 2011 - 101.787 km</td>\n",
       "      <td>Belo Horizonte - MG</td>\n",
       "      <td>[Painel digital, Travas elétricas, Sensor de c...</td>\n",
       "      <td>474000</td>\n",
       "      <td>https://caelum-online-public.s3.amazonaws.com/...</td>\n",
       "    </tr>\n",
       "    <tr>\n",
       "      <th>245</th>\n",
       "      <td>KIA SPORTS CAR</td>\n",
       "      <td>USADO</td>\n",
       "      <td>Motor 3.0 32v</td>\n",
       "      <td>Ano 2001 - 88.564 km</td>\n",
       "      <td>Belo Horizonte - MG</td>\n",
       "      <td>[Sensor crepuscular, Bancos de couro, Sensor d...</td>\n",
       "      <td>366000</td>\n",
       "      <td>https://caelum-online-public.s3.amazonaws.com/...</td>\n",
       "    </tr>\n",
       "  </tbody>\n",
       "</table>\n",
       "<p>246 rows × 8 columns</p>\n",
       "</div>"
      ],
      "text/plain": [
       "                       name category           engine            description  \\\n",
       "0     LAMBORGHINI AVENTADOR    USADO    Motor 1.8 16v   Ano 1993 - 55.286 km   \n",
       "1                    BMW M2    USADO    Motor 3.0 32v   Ano 2018 - 83.447 km   \n",
       "2                      ALFA    USADO    Motor 1.8 16v   Ano 2004 - 19.722 km   \n",
       "3                     PUECH    USADO  Motor Diesel V8   Ano 1992 - 34.335 km   \n",
       "4    LAMBORGHINI MURCIELAGO    USADO     Motor 1.0 8v      Ano 1991 - 464 km   \n",
       "..                      ...      ...              ...                    ...   \n",
       "241           SUV REAR TIRE    USADO    Motor 3.0 32v   Ano 1998 - 74.292 km   \n",
       "242                 ANTIQUE     NOVO    Motor 2.0 16v        Ano 2019 - 0 km   \n",
       "243                   SPORT    USADO    Motor 2.0 16v  Ano 2001 - 102.776 km   \n",
       "244                IMPERIAL    USADO    Motor 1.8 16v  Ano 2011 - 101.787 km   \n",
       "245          KIA SPORTS CAR    USADO    Motor 3.0 32v   Ano 2001 - 88.564 km   \n",
       "\n",
       "                location                                              items  \\\n",
       "0    Belo Horizonte - MG  [4 X 4, Câmera de estacionamento, Controle de ...   \n",
       "1    Belo Horizonte - MG  [Câmera de estacionamento, Controle de estabil...   \n",
       "2    Rio de Janeiro - RJ  [Central multimídia, Bancos de couro, Rodas de...   \n",
       "3         São Paulo - SP  [Bancos de couro, Freios ABS, Rodas de liga, C...   \n",
       "4    Belo Horizonte - MG  [Central multimídia, Teto panorâmico, Sensor c...   \n",
       "..                   ...                                                ...   \n",
       "241       São Paulo - SP  [Câmera de estacionamento, Rodas de liga, Sens...   \n",
       "242  Belo Horizonte - MG  [Bancos de couro, Freios ABS, Sensor de estaci...   \n",
       "243  Belo Horizonte - MG  [Sensor crepuscular, Sensor de chuva, Vidros e...   \n",
       "244  Belo Horizonte - MG  [Painel digital, Travas elétricas, Sensor de c...   \n",
       "245  Belo Horizonte - MG  [Sensor crepuscular, Bancos de couro, Sensor d...   \n",
       "\n",
       "      value                                              image  \n",
       "0    338000  https://caelum-online-public.s3.amazonaws.com/...  \n",
       "1    346000  https://caelum-online-public.s3.amazonaws.com/...  \n",
       "2    480000  https://caelum-online-public.s3.amazonaws.com/...  \n",
       "3    133000  https://caelum-online-public.s3.amazonaws.com/...  \n",
       "4    175000  https://caelum-online-public.s3.amazonaws.com/...  \n",
       "..      ...                                                ...  \n",
       "241  489000  https://caelum-online-public.s3.amazonaws.com/...  \n",
       "242  427000  https://caelum-online-public.s3.amazonaws.com/...  \n",
       "243  203000  https://caelum-online-public.s3.amazonaws.com/...  \n",
       "244  474000  https://caelum-online-public.s3.amazonaws.com/...  \n",
       "245  366000  https://caelum-online-public.s3.amazonaws.com/...  \n",
       "\n",
       "[246 rows x 8 columns]"
      ]
     },
     "execution_count": 30,
     "metadata": {},
     "output_type": "execute_result"
    }
   ],
   "source": [
    "pd.DataFrame.from_records(car_data)"
   ]
  },
  {
   "cell_type": "code",
   "execution_count": 31,
   "id": "919a2201-2ca4-437b-8584-96888ddc9ea7",
   "metadata": {},
   "outputs": [],
   "source": [
    "pd.DataFrame.from_records(car_data).to_csv('./data/cars_ad.csv', sep=';', index=False)"
   ]
  }
 ],
 "metadata": {
  "kernelspec": {
   "display_name": "Python 3",
   "language": "python",
   "name": "python3"
  },
  "language_info": {
   "codemirror_mode": {
    "name": "ipython",
    "version": 3
   },
   "file_extension": ".py",
   "mimetype": "text/x-python",
   "name": "python",
   "nbconvert_exporter": "python",
   "pygments_lexer": "ipython3",
   "version": "3.8.5"
  }
 },
 "nbformat": 4,
 "nbformat_minor": 5
}
